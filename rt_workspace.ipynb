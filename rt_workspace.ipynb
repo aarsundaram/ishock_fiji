{
 "cells": [
  {
   "cell_type": "code",
   "execution_count": 1,
   "metadata": {},
   "outputs": [],
   "source": [
    "import pandas as pd\n",
    "import numpy as np\n",
    "import matplotlib.pyplot as plt\n"
   ]
  },
  {
   "cell_type": "code",
   "execution_count": 2,
   "metadata": {},
   "outputs": [
    {
     "name": "stdout",
     "output_type": "stream",
     "text": [
      "Index(['hhid', 'totweight', 'urban', 'inc_employ', 'inc_commerce',\n",
      "       'inc_subsist', 'inc_remit', 'inc_transfer', 'inc_gift', 'inc_rent',\n",
      "       'inc_total', 'food_cons', 'total_cons', 'poor_nat', 'poor_190',\n",
      "       'poor_320', 'poor_550', 'dep_water', 'dep_san', 'dep_ele', 'dep_enroll',\n",
      "       'dep_attain'],\n",
      "      dtype='object')\n",
      "\n",
      "\n",
      "Index(['hhid', 'indid', 'age', 'educ', 'employ', 'ind_isic', 'inc_emp_ind',\n",
      "       'fji_conv'],\n",
      "      dtype='object')\n"
     ]
    }
   ],
   "source": [
    "## load data \n",
    "hhdf = pd.read_excel('./in/shocks_dataset_fji_2704.xlsx')\n",
    "print(hhdf.columns)\n",
    "\n",
    "indiv = pd.read_excel('./in/shocks_dataset_fji_2704_indiv_v2.xlsx')\n",
    "print('\\n')\n",
    "print(indiv.columns)\n"
   ]
  },
  {
   "cell_type": "markdown",
   "metadata": {},
   "source": [
    "# Quick look at poverty headcount"
   ]
  },
  {
   "cell_type": "code",
   "execution_count": 3,
   "metadata": {},
   "outputs": [
    {
     "name": "stdout",
     "output_type": "stream",
     "text": [
      "total population is:  864132.0 \n",
      "\n",
      "When considering only adults to calculate per capita income per adult equivalent\n",
      "poverty headcount:  27378.0\n",
      "poverty rate:  3.1683211093753196 % \n",
      "\n",
      "When considering all members of household to calculate percapita income\n",
      "poverty headcount:  171438.0\n",
      "poverty rate (all):  20.0 % \n",
      "\n"
     ]
    }
   ],
   "source": [
    "## add household size to the columns\n",
    "hhsize_dict = indiv.groupby('hhid')['indid'].count().to_dict()\n",
    "hhdf['hhsize'] = hhdf['hhid'].map(hhsize_dict)\n",
    "\n",
    "\n",
    "## calculating number of children in household (below 18)\n",
    "indiv['ischild'] = [1 if x<=18 else 0 for x in list(indiv['age'])]\n",
    "number_of_children_dict = indiv.groupby('hhid')['ischild'].sum().to_dict()\n",
    "hhdf['number_of_children'] = hhdf['hhid'].map(number_of_children_dict)\n",
    "\n",
    "#calculating percapita consumption (per adult equivalent) to get households falling below national poverty line of $2,179.39 per year per adult\n",
    "# so pcexp = (total_consumption*hhwgt)/hhsize\n",
    "\n",
    "hhdf['pcexp'] = (hhdf['total_cons']/(hhdf['hhsize']-hhdf['number_of_children']))\n",
    "hhdf['pcinc'] = hhdf['inc_total']/(hhdf['hhsize']-hhdf['number_of_children'])\n",
    "hhdf['ispoor'] = [1 if x<=2179.39 else 0 for x in list(hhdf['pcinc'])]\n",
    "\n",
    "print('total population is: ',(hhdf['totweight'].sum()).round(0),'\\n')\n",
    "\n",
    "print('When considering only adults to calculate per capita income per adult equivalent')\n",
    "\n",
    "print('poverty headcount: ',(hhdf['ispoor']*hhdf['totweight']).sum().round(0))\n",
    "print('poverty rate: ',((hhdf['ispoor']*hhdf['totweight']).sum()/(hhdf['totweight'].sum()).round(1)*100),'% \\n')\n",
    "\n",
    "\n",
    "print('When considering all members of household to calculate percapita income')\n",
    "\n",
    "hhdf['pcexp'] = (hhdf['total_cons']/(hhdf['hhsize']))\n",
    "hhdf['pcinc'] = hhdf['inc_total']/(hhdf['hhsize'])\n",
    "hhdf['ispoor'] = [1 if x<=2179.39 else 0 for x in list(hhdf['pcinc'])]\n",
    "print('poverty headcount: ',(hhdf['ispoor']*hhdf['totweight']).sum().round(0))\n",
    "print('poverty rate (all): ',((hhdf['ispoor']*hhdf['totweight']).sum()/(hhdf['totweight'].sum())).round(1)*100,'% \\n')\n",
    "\n"
   ]
  },
  {
   "cell_type": "markdown",
   "metadata": {},
   "source": [
    "## Preparing the households dataframe"
   ]
  },
  {
   "cell_type": "code",
   "execution_count": 4,
   "metadata": {},
   "outputs": [
    {
     "name": "stdout",
     "output_type": "stream",
     "text": [
      "<class 'pandas.core.frame.DataFrame'>\n",
      "RangeIndex: 6000 entries, 0 to 5999\n",
      "Data columns (total 33 columns):\n",
      " #   Column                       Non-Null Count  Dtype  \n",
      "---  ------                       --------------  -----  \n",
      " 0   hhid                         6000 non-null   object \n",
      " 1   hhwgt                        6000 non-null   float64\n",
      " 2   urban                        6000 non-null   int64  \n",
      " 3   inc_employ                   6000 non-null   float64\n",
      " 4   inc_commerce                 6000 non-null   float64\n",
      " 5   inc_subsist                  6000 non-null   float64\n",
      " 6   inc_remit                    6000 non-null   float64\n",
      " 7   inc_transfer                 6000 non-null   float64\n",
      " 8   inc_gift                     6000 non-null   float64\n",
      " 9   inc_rent                     6000 non-null   float64\n",
      " 10  inc_total                    6000 non-null   float64\n",
      " 11  food_cons                    6000 non-null   float64\n",
      " 12  total_cons                   6000 non-null   float64\n",
      " 13  poor_nat                     6000 non-null   int64  \n",
      " 14  poor_190                     6000 non-null   int64  \n",
      " 15  poor_320                     6000 non-null   int64  \n",
      " 16  poor_550                     6000 non-null   int64  \n",
      " 17  dep_water                    6000 non-null   int64  \n",
      " 18  dep_san                      6000 non-null   int64  \n",
      " 19  dep_ele                      6000 non-null   int64  \n",
      " 20  dep_enroll                   6000 non-null   int64  \n",
      " 21  dep_attain                   6000 non-null   int64  \n",
      " 22  hhsize                       6000 non-null   int64  \n",
      " 23  number_of_children           6000 non-null   int64  \n",
      " 24  pcexp                        6000 non-null   float64\n",
      " 25  pcinc                        6000 non-null   float64\n",
      " 26  ispoor                       6000 non-null   int64  \n",
      " 27  hoh_mainactivity             6000 non-null   object \n",
      " 28  hoh_education                6000 non-null   object \n",
      " 29  hhinc_mainsource_all         6000 non-null   object \n",
      " 30  hhinc_mainsource_wage_other  6000 non-null   object \n",
      " 31  inc_nonwage                  6000 non-null   float64\n",
      " 32  pcwgt                        6000 non-null   float64\n",
      "dtypes: float64(15), int64(13), object(5)\n",
      "memory usage: 1.5+ MB\n"
     ]
    },
    {
     "name": "stderr",
     "output_type": "stream",
     "text": [
      "/var/folders/0n/my5lcdhs2xs75tc9zh3p4ms00000gn/T/ipykernel_34263/2300085392.py:31: UserWarning: Boolean Series key will be reindexed to match DataFrame index.\n",
      "  indiv[indiv['hhid'].isin(missing_hoh)][indiv['indid']==1]\n"
     ]
    }
   ],
   "source": [
    "## to keep adults within the working age so as to avoid getting older people simply because of the max age\n",
    "#indiv = indiv[(indiv['age']>=18)&(indiv['age']<=65)]\n",
    "## dropping the method above. \n",
    "\n",
    "## instead, getting the head of household from indid = 1\n",
    "hoh = indiv.loc[indiv['indid']==1].set_index('hhid')\n",
    "\n",
    "## adding columns to help with income profiling\n",
    "hhdf['hoh_mainactivity']= hhdf['hhid'].map(hoh['employ'].to_dict())\n",
    "hhdf['hoh_education']=hhdf['hhid'].map(hoh['educ'].to_dict())\n",
    "\n",
    "##getting the mainsource of income for each household\n",
    "hhdf['hhinc_mainsource_all']=hhdf[['inc_employ', 'inc_commerce','inc_subsist', 'inc_remit', 'inc_transfer', 'inc_gift', 'inc_rent']].idxmax(axis=1)\n",
    "temp = {'inc_employ':'inc_employ',\n",
    "        'inc_commerce':'other',\n",
    "        'inc_subsist':'other',\n",
    "         'inc_remit':'other', \n",
    "         'inc_transfer':'other', \n",
    "         'inc_gift':'other',\n",
    "          'inc_rent':'other'}\n",
    "\n",
    "hhdf['hhinc_mainsource_wage_other'] = hhdf['hhinc_mainsource_all'].map(temp)\n",
    "\n",
    "\n",
    "## list of household ids where there is no head of household info. \n",
    "missing_hoh = list(hhdf[hhdf['hoh_mainactivity'].isna()]['hhid'])\n",
    "\n",
    "## pulling up the data from the main individuals dataframe\n",
    "indiv[indiv['hhid'].isin(missing_hoh)]\n",
    "## checking if there are any indid=1 conditions satisfied\n",
    "indiv[indiv['hhid'].isin(missing_hoh)][indiv['indid']==1]\n",
    "## this reveals the problem: there are 21 rows without indid=1\n",
    "\n",
    "## for all the residents of these households, the residents remain within the working age. \n",
    "## therefore it is safe to use age.max() and assume they are the head of the household\n",
    "indiv[indiv['hhid'].isin(missing_hoh)].groupby('hhid')['age'].max()\n",
    "\n",
    "idx=indiv[indiv['hhid'].isin(missing_hoh)].groupby('hhid')['age'].max().index\n",
    "missing_hoh_df = indiv[indiv['hhid'].isin(idx)].set_index('hhid')\n",
    "hhdf[hhdf['hhid'].isin(idx)]\n",
    "hhdf['hoh_mainactivity'] = hhdf['hoh_mainactivity'].fillna(hhdf['hhid'].map(missing_hoh_df['employ'].to_dict()))\n",
    "hhdf['hoh_education'] = hhdf['hoh_education'].fillna(hhdf['hhid'].map(missing_hoh_df['educ'].to_dict()))\n",
    "\n",
    "\n",
    "hhdf['inc_nonwage'] = hhdf[['inc_transfer', 'inc_commerce', 'inc_rent','inc_remit', 'inc_gift', 'inc_subsist']].sum(axis=1)\n",
    "\n",
    "#df['pcwgt'] = df.eval('hhwgt*hhsize')  # population represented\n",
    "hhdf['pcwgt'] = hhdf['totweight']*hhdf['hhsize']\n",
    "\n",
    "hhdf = hhdf.rename(columns={'totweight':'hhwgt'})\n",
    "\n",
    "## final households dataframe with all data complete. \n",
    "hhdf.info()\n",
    "\n",
    "hhdf['pov_line']= [2179 for i in range(len(hhdf))]\n",
    "hhdf.to_csv('./in/hhdf.csv')\n"
   ]
  },
  {
   "cell_type": "code",
   "execution_count": 5,
   "metadata": {},
   "outputs": [],
   "source": [
    "# useful variables and dictionaries\n",
    "\n",
    "## educ: ['At least some secondary completion','Primary completion and below','Post-secondary/tertiary and above']\n",
    "## main_activity: ['Self employment/subsistence', 'Wage employment', 'Not working']\n",
    "## income main source: ['inc_employ', 'inc_transfer', 'inc_commerce', 'inc_rent','inc_remit', 'inc_gift', 'inc_subsist']\n",
    "\n",
    "indiv['employ'].unique()\n",
    "\n",
    "hhdf.head(2)\n",
    "\n",
    "#income streams:\n",
    "income_dict ={'inc_employ':'wages',\n",
    "'inc_commerce':'selfemployed',\n",
    "'inc_subsist':'subsistence',\n",
    "'inc_remit':'remittances',\n",
    "'inc_transfer': 'transfer',\n",
    "'inc_gift':'windfall',\n",
    "'inc_rent': 'rental',\n",
    "'inc_total': 'total_income'\n",
    "}\n",
    "\n",
    "consumption_dict = {\n",
    "    'food_cons':'food',\n",
    "    'total_cons':'total_consumption'\n",
    "}\n"
   ]
  },
  {
   "cell_type": "code",
   "execution_count": 6,
   "metadata": {},
   "outputs": [],
   "source": [
    "##                         further preparing data to get income profiling figures\n",
    "\n",
    "## MAIN ACTIVITY\n",
    "# hoh_mainactivity_2 = [(0,(hh_df_in['hoh_mainactivity']=='private_employee'),'private employees'),\n",
    "#                                  (1,(hh_df_in['hoh_mainactivity']=='unemployed'),'unemployed')]\n",
    "\n",
    "## we currently have:  main_activity= ['Self employment/subsistence', 'Wage employment', 'Not working']\n",
    "\n",
    "# editing to: \n",
    "# hoh_mainactivity_2 = [(0,(hh_df_in['hoh_mainactivity']=='Self employment/subsistence'),'self-employed'),\n",
    "#                                   (1,(hh_df_in['hoh_mainactivity']=='Not working'),'unemployed')]\n",
    "\n",
    "\n",
    "## EDUCATION LEVEL OF HEAD OF HOUSEHOLD\n",
    "#'hoh_education':[(0,(hh_df_in['hoh_education']=='less_than_high_school'),'no high school diploma'),\n",
    "#                             (1,(hh_df_in['hoh_education']!='less_than_high_school'),'at least GCE/HS diploma')]\n",
    "\n",
    "# we have: educ= ['At least some secondary completion','Primary completion and below','Post-secondary/tertiary and above']\n",
    "\n",
    "#editing to:\n",
    "#'hoh_education':[(0,(hh_df_in['hoh_education']=='Primary completion and below'),'no high school diploma'),\n",
    "#                           (1,(hh_df_in['hoh_education']!='At least some secondary completion'),'at least GCE/HS diploma')]\n",
    "\n",
    "\n",
    "\n",
    "## INCOME MAIN SOURCE \n",
    "#        'hhinc_mainsource_1':[(0,(hh_df_in['hhinc_mainsource']=='wages'),'wages'),\n",
    " #                               (1,(hh_df_in['hhinc_mainsource']=='other'),'other')],\n",
    "  #          'hhinc_mainsource_2':[(0,(hh_df_in['hhinc_mainsource']=='wages'),'wages'),\n",
    "   #                             (1,(hh_df_in['hhinc_mainsource']=='netirr'),'irregular earnings')]}\n",
    "\n",
    "# we have: \n",
    "## income main source: ['inc_employ', 'inc_transfer', 'inc_commerce', 'inc_rent','inc_remit', 'inc_gift', 'inc_subsist']\n",
    "\n",
    "#editing to:\n",
    "#        'hhinc_mainsource_1':[(0,(hh_df_in['hhinc_mainsource']=='inc_employ'),'wages'),\n",
    " #                               (1,(hh_df_in['hhinc_mainsource']=='other'),'other')],\n",
    "  #          'hhinc_mainsource_2':[(0,(hh_df_in['hhinc_mainsource']=='inc_employ'),'wages'),\n",
    "   #                             (1,(hh_df_in['hhinc_mainsource']=='inc_gift'),'irregular earnings')]}\n",
    "\n"
   ]
  },
  {
   "cell_type": "markdown",
   "metadata": {},
   "source": [
    "# Income profiling"
   ]
  },
  {
   "cell_type": "code",
   "execution_count": 6,
   "metadata": {},
   "outputs": [],
   "source": [
    "from income_profiling_libraries import *"
   ]
  },
  {
   "cell_type": "code",
   "execution_count": 7,
   "metadata": {},
   "outputs": [
    {
     "name": "stderr",
     "output_type": "stream",
     "text": [
      "/Users/aarthisundaram/Desktop/Projects/World Bank/Project 3 Fiji Social Protection/fiji_code/income_profiling_libraries.py:95: RuntimeWarning: invalid value encountered in double_scalars\n",
      "  is_hgt[_i].append(float(hh_df.loc[hh_df.eval(bin_slice)].eval('1E2*pcwgt*{}'.format(_i)).sum()\n",
      "/Users/aarthisundaram/Desktop/Projects/World Bank/Project 3 Fiji Social Protection/fiji_code/income_profiling_libraries.py:99: RuntimeWarning: invalid value encountered in double_scalars\n",
      "  ratio.append(float(hh_df.loc[hh_df.eval(bin_slice)].eval('pcwgt*{}'.format(_num)).sum()\n",
      "/Users/aarthisundaram/Desktop/Projects/World Bank/Project 3 Fiji Social Protection/fiji_code/income_profiling_libraries.py:95: RuntimeWarning: invalid value encountered in double_scalars\n",
      "  is_hgt[_i].append(float(hh_df.loc[hh_df.eval(bin_slice)].eval('1E2*pcwgt*{}'.format(_i)).sum()\n",
      "/Users/aarthisundaram/Desktop/Projects/World Bank/Project 3 Fiji Social Protection/fiji_code/income_profiling_libraries.py:99: RuntimeWarning: invalid value encountered in double_scalars\n",
      "  ratio.append(float(hh_df.loc[hh_df.eval(bin_slice)].eval('pcwgt*{}'.format(_num)).sum()\n",
      "/Users/aarthisundaram/Desktop/Projects/World Bank/Project 3 Fiji Social Protection/fiji_code/income_profiling_libraries.py:95: RuntimeWarning: invalid value encountered in double_scalars\n",
      "  is_hgt[_i].append(float(hh_df.loc[hh_df.eval(bin_slice)].eval('1E2*pcwgt*{}'.format(_i)).sum()\n",
      "/Users/aarthisundaram/Desktop/Projects/World Bank/Project 3 Fiji Social Protection/fiji_code/income_profiling_libraries.py:99: RuntimeWarning: invalid value encountered in double_scalars\n",
      "  ratio.append(float(hh_df.loc[hh_df.eval(bin_slice)].eval('pcwgt*{}'.format(_num)).sum()\n",
      "/Users/aarthisundaram/Desktop/Projects/World Bank/Project 3 Fiji Social Protection/fiji_code/income_profiling_libraries.py:95: RuntimeWarning: invalid value encountered in double_scalars\n",
      "  is_hgt[_i].append(float(hh_df.loc[hh_df.eval(bin_slice)].eval('1E2*pcwgt*{}'.format(_i)).sum()\n",
      "/Users/aarthisundaram/Desktop/Projects/World Bank/Project 3 Fiji Social Protection/fiji_code/income_profiling_libraries.py:99: RuntimeWarning: invalid value encountered in double_scalars\n",
      "  ratio.append(float(hh_df.loc[hh_df.eval(bin_slice)].eval('pcwgt*{}'.format(_num)).sum()\n"
     ]
    }
   ],
   "source": [
    "plot_income_profile_side_by_side(hhdf,'hoh_mainactivity_2',xax='pcexp',district=None)\n",
    "plot_income_profile_side_by_side(hhdf,'hoh_education',xax='pcexp',district=None)\n",
    "plot_income_profile_side_by_side(hhdf,'hhinc_mainsource_1',xax='pcexp',district=None)\n",
    "plot_income_profile_side_by_side(hhdf,'hhinc_mainsource_2',xax='pcexp',district=None)"
   ]
  },
  {
   "cell_type": "markdown",
   "metadata": {},
   "source": [
    "# Calculating Elasticities"
   ]
  },
  {
   "cell_type": "code",
   "execution_count": 9,
   "metadata": {},
   "outputs": [
    {
     "name": "stdout",
     "output_type": "stream",
     "text": [
      "\n",
      "PAY ATTENTION HERE:\n",
      "-- dropping 0.0% of population b/c (inc<=0 | exp<=0)\n",
      "- 0 of 10k nsims\n",
      "- 1 of 10k nsims\n",
      "- 2 of 10k nsims\n",
      "- 3 of 10k nsims\n",
      "- 4 of 10k nsims\n",
      "- 5 of 10k nsims\n",
      "- 6 of 10k nsims\n",
      "- 7 of 10k nsims\n",
      "- 8 of 10k nsims\n",
      "- 9 of 10k nsims\n"
     ]
    }
   ],
   "source": [
    "from elasticity_libraries import *\n",
    "\n",
    "plot_elasticity_regressions(nsims=10000,itoc='REL')"
   ]
  },
  {
   "cell_type": "code",
   "execution_count": null,
   "metadata": {},
   "outputs": [],
   "source": []
  }
 ],
 "metadata": {
  "interpreter": {
   "hash": "58495a08dfb4f78c0671ac4e6583306cdc6748802a95894b52eacdb418d9e9df"
  },
  "kernelspec": {
   "display_name": "Python 3.9.7 ('base')",
   "language": "python",
   "name": "python3"
  },
  "language_info": {
   "codemirror_mode": {
    "name": "ipython",
    "version": 3
   },
   "file_extension": ".py",
   "mimetype": "text/x-python",
   "name": "python",
   "nbconvert_exporter": "python",
   "pygments_lexer": "ipython3",
   "version": "3.9.7"
  },
  "orig_nbformat": 4
 },
 "nbformat": 4,
 "nbformat_minor": 2
}
